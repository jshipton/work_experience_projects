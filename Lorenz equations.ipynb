{
 "cells": [
  {
   "cell_type": "markdown",
   "metadata": {},
   "source": [
    "# An introduction to chaos and predictability\n",
    "## Overview\n",
    "\n",
    "In this worksheet we will explore some key ideas underpinning the mathematical theory of _chaos_ and _predictability_.  In particular, we will:\n",
    "\n",
    "1. consider the sensitivity of a solution to the initial conditions of the problem;\n",
    "2. examine the consequences of this for numerical simulation;\n",
    "3. learn about how to use scipy to compute results and matplotlib to plot them\n",
    "\n",
    "**Using the worksheet**\n",
    "- This is your own copy of this worksheet - feel free to edit it as you like (or save another copy to edit instead).\n",
    "- Double-click on cells to edit them.\n",
    "- To execute a cell, click the \"Run\" button on a selected cell or press Shift+Enter.\n",
    "- Every time you make a change, you will need to execute all the cells that need updating.\n",
    "\n",
    "## The Lorenz equations\n",
    "\n",
    "To aid us in our study of chaos, we will work with a system of differential equations, called the [Lorenz equations](https://en.wikipedia.org/wiki/Lorenz_system):\n",
    "$$\\begin{bmatrix} \\dot{x} \\\\ \\dot{y} \\\\ \\dot{z} \\end{bmatrix} = \\begin{bmatrix} \\sigma (y - x) \\\\ -x z + r x - y \\\\ x y - b z \\end{bmatrix} .$$\n",
    "\n",
    "Here $x$, $y$ and $z$ are our coordinates in three-dimensional space, the dot represents the derivative with respect to time $t$, and $\\sigma$, $r$ and $b$ are the parameters of the model. A typical choice for these parameters is $\\sigma=10$, $r=28$ and $b=8/3$.\n",
    "\n",
    "In general, we cannot write down a closed formula for the solution of the Lorenz equations.  We can attempt to approximate the solution numerically, however, which we shall do in this worksheet using _Python_.\n",
    "\n",
    "First we import numpy, as we will be working with arrays."
   ]
  },
  {
   "cell_type": "code",
   "execution_count": null,
   "metadata": {},
   "outputs": [],
   "source": [
    "import numpy as np"
   ]
  },
  {
   "cell_type": "code",
   "execution_count": null,
   "metadata": {},
   "outputs": [],
   "source": [
    "def lorenz(X, sigma=10, r=28, b=8/3):\n",
    "    x, y, z = X\n",
    "    xdot = sigma(y-x)\n",
    "    ydot = \n",
    "    zdot = \n",
    "    return np.array((xdot, ydot, zdot))"
   ]
  },
  {
   "cell_type": "markdown",
   "metadata": {},
   "source": [
    "We begin by writing a function _lorenz_ that calculates and returns the derivative $(\\dot{x}, \\dot{y}, \\dot{z})$ at the input value $X$."
   ]
  },
  {
   "cell_type": "code",
   "execution_count": null,
   "metadata": {},
   "outputs": [],
   "source": [
    "lorenz(np.array((1,2,3)))"
   ]
  },
  {
   "cell_type": "markdown",
   "metadata": {},
   "source": [
    "Note that for the Lorenz system the derivative is independent of time, but for more general systems of differential equations, the derivative may depend on time.\n",
    "\n",
    "We can now use a numerical method, such as Forward Euler, to approximate the solution as with the Hare-Lynx project,\n",
    "\n",
    "\\begin{equation}\n",
    "\\frac{X_{i+1} - X_i}{\\Delta t} \\approx \\frac{\\mathrm{d}X}{\\mathrm{d}t} = \\text{lorenz}(X) .\n",
    "\\end{equation}\n",
    "\n",
    "Hence, we can generate our approximate solution using the Forward Euler method via\n",
    "\n",
    "\\begin{equation}\n",
    "X_{i+1} = X_i + \\Delta t \\,\\text{lorenz}(X_i, t)\n",
    "\\end{equation}"
   ]
  },
  {
   "cell_type": "code",
   "execution_count": null,
   "metadata": {},
   "outputs": [],
   "source": [
    "def forward_euler(Xi, dt):\n",
    "    # This function takes in a numpy array Xi, containing the values of X at time level i, and the timestep dt,\n",
    "    # and returns a numpy array Xip1, containing the values of X at time level i+1\n",
    "    return "
   ]
  },
  {
   "cell_type": "markdown",
   "metadata": {},
   "source": [
    "Now we can run our simulation:"
   ]
  },
  {
   "cell_type": "code",
   "execution_count": null,
   "metadata": {},
   "outputs": [],
   "source": [
    "# we define our initial condition, start time, timestep and end time:\n",
    "X0 = np.array([1, 1, 1])\n",
    "t = 0\n",
    "dt = 0.01\n",
    "t_max = 50\n",
    "\n",
    "# create a list to store the time and a numpy array to store X:\n",
    "time = [0]\n",
    "X = X0.copy()  # create a copy of the initial conditions - without the copy, changing X will change X0\n",
    "\n",
    "# initialise Xi and calculate Xip1 until we reach the end time:\n",
    "Xi = X0\n",
    "while t <= t_max:\n",
    "    Xip1 = forward_euler(Xi, dt)  # update Xip1 using your forward_euler function\n",
    "    X = np.vstack((X, Xip1))  # this appends Xip1 to Xi and stores the result as X\n",
    "    Xi = Xip1  # update Xi\n",
    "    t += dt    # increment t\n",
    "    time.append(t)"
   ]
  },
  {
   "cell_type": "markdown",
   "metadata": {},
   "source": [
    "Extract the $x$, $y$ and $z$ positions and plot!"
   ]
  },
  {
   "cell_type": "code",
   "execution_count": null,
   "metadata": {},
   "outputs": [],
   "source": [
    "x, y, z = X.T\n",
    "import matplotlib.pyplot as plt\n",
    "plt.plot(x, z)\n",
    "plt.xlabel('x')\n",
    "plt.ylabel('z')\n",
    "plt.title(\"The Lorenz attractor\")"
   ]
  },
  {
   "cell_type": "markdown",
   "metadata": {},
   "source": [
    "We can also plot in 3D."
   ]
  },
  {
   "cell_type": "code",
   "execution_count": null,
   "metadata": {},
   "outputs": [],
   "source": [
    "from mpl_toolkits.mplot3d import Axes3D\n",
    "fig = plt.figure(figsize=(8, 8))\n",
    "# the (111) argument to add_subplot specifies the dimensions of the subplots\n",
    "# the first number specifies the number of rows\n",
    "# the second number specifies the number of columns\n",
    "# the third number specifies the index of this particular plot, with 1 indicating the upper left plot\n",
    "ax = fig.add_subplot(111, projection='3d')\n",
    "ax.plot(x, y, z)\n",
    "ax.set_xlabel('x')\n",
    "ax.set_ylabel('y')\n",
    "ax.set_zlabel('z')\n",
    "plt.title(\"The Lorenz attractor\")"
   ]
  },
  {
   "cell_type": "markdown",
   "metadata": {},
   "source": [
    "We can plot the evolution of the coordinates with time:"
   ]
  },
  {
   "cell_type": "code",
   "execution_count": null,
   "metadata": {},
   "outputs": [],
   "source": [
    "fig, axs = plt.subplots(3, 1, figsize=(16, 8))\n",
    "# let's do some more subplots!\n",
    "# these show the evolution of x, y and z with time\n",
    "axs[0].plot(time, x)\n",
    "axs[0].set_xlabel('time')\n",
    "axs[0].set_ylabel('x')\n",
    "axs[1].plot(time, y)\n",
    "axs[1].set_xlabel('time')\n",
    "axs[1].set_ylabel('y')\n",
    "axs[2].plot(time, z)\n",
    "axs[2].set_xlabel('time')\n",
    "axs[2].set_ylabel('z')\n",
    "# there are many ways to tweak matplotlib plot spacing but this is a nice way to persuade\n",
    "# matplotlib to do it for you, if possible - try without this line!\n",
    "fig.tight_layout()"
   ]
  },
  {
   "cell_type": "markdown",
   "metadata": {},
   "source": [
    "Now we would like to simulate the time evolution for a range of input parameters and initial conditions. We will use the scipy integration function solve_ivp, which implements a range of more sophisticated timestepping algorithms. To do this we need to amend our _lorenz_ function, because it needs to be in a specific form for solve_ivp to use it."
   ]
  },
  {
   "cell_type": "code",
   "execution_count": null,
   "metadata": {},
   "outputs": [],
   "source": [
    "from scipy.integrate import solve_ivp"
   ]
  },
  {
   "cell_type": "code",
   "execution_count": null,
   "metadata": {},
   "outputs": [],
   "source": [
    "def lorenz_equation(t, X, sigma=10, r=28, b=8/3):\n",
    "    # note the optional arguments sigma, r and b that take default values\n",
    "    return"
   ]
  },
  {
   "cell_type": "code",
   "execution_count": null,
   "metadata": {},
   "outputs": [],
   "source": [
    "time = np.linspace(0, 50, 5001)  # this returns 5001 equispaced points 0, 0.01, ..., 50. (why not 5000?)\n",
    "X0 = np.array([1,1,1])\n",
    "sol = solve_ivp(lorenz_equation, (0, 50), X0, t_eval=times)"
   ]
  },
  {
   "cell_type": "code",
   "execution_count": null,
   "metadata": {},
   "outputs": [],
   "source": [
    "x1, y1, z1 = sol.y\n",
    "fig, axs = plt.subplots(1, 3, figsize=(16, 8))  # produces 6 plots arranged in 2 rows of 3\n",
    "axs[0].plot(times, x1)\n",
    "axs[1].plot(times, y1)\n",
    "axs[2].plot(times, z1)\n",
    "axs[0].set_title('x')\n",
    "axs[1].set_title('y')\n",
    "axs[2].set_title('z')\n",
    "# this loops over all plots to set the xlabel\n",
    "for ax in axs.flat:\n",
    "    ax.set(xlabel='time')\n",
    "fig.tight_layout()"
   ]
  },
  {
   "cell_type": "code",
   "execution_count": null,
   "metadata": {},
   "outputs": [],
   "source": [
    "# note the new arguments - can you find out what they do?\n",
    "fig, axs = plt.subplots(1, 2, sharex=True, sharey=True, figsize=(16, 8))\n",
    "axs[0].plot(x, z)\n",
    "axs[0].set_xlabel('x')\n",
    "axs[0].set_ylabel('z')\n",
    "axs[1].plot(x1, z1)\n",
    "axs[1].set_xlabel('x')\n",
    "axs[1].set_ylabel('z')\n",
    "fig.suptitle(\"The Lorenz attractor, starting from the same initial conditions, computed using two different algorithms.\")\n",
    "axs[0].set_title(\"Forward Euler\")\n",
    "axs[1].set_title(\"scipy.integrate.solve_ivp\")"
   ]
  },
  {
   "cell_type": "markdown",
   "metadata": {},
   "source": [
    "We can also compare results using the scipy solve_ivp function with different initial conditions."
   ]
  },
  {
   "cell_type": "code",
   "execution_count": null,
   "metadata": {},
   "outputs": [],
   "source": [
    "X0 = np.array([0.95, 1., 1.])  # define a new initial condition\n",
    "sol2 = solve_ivp(rhs_function, (0, 50), X0, t_eval=times)  # save the solution to new variable, sol2\n",
    "x2, y2, z2 = sol2.y\n",
    "plt.plot(times, x1, times, x2)\n",
    "plt.xlabel('time')\n",
    "plt.ylabel('x')\n",
    "plt.title(\"Two trajectories for the Lorenz system\")"
   ]
  },
  {
   "cell_type": "markdown",
   "metadata": {},
   "source": [
    "Note that the left-hand lobe of the Lorenz attractor corresponds to negative values of $x_0$ and the right-hand lobe corresponds to positive values of $x_0$.  From the above plot, we can see that the two solutions remain close until $t\\approx 17$ after which one solution heads off to the left-hand lobe and the other does another loop around the right-hand lobe, but after $t\\approx 25$ they seem to be doing their own thing.\n",
    "\n",
    "Note that this divergent behaviour is a feature of this system of equations and is one of the characteristic elements of _chaotic_ dynamical systems.\n",
    "\n",
    "We can measure the separation more precisely to see how it grows.  We will use the function _linalg.norm_ in _numpy_ to compute the Euclidean distance between the trajectories at each point in time."
   ]
  },
  {
   "cell_type": "code",
   "execution_count": null,
   "metadata": {},
   "outputs": [],
   "source": [
    "separation = np.linalg.norm(sol2.y-sol.y, axis=0)"
   ]
  },
  {
   "cell_type": "code",
   "execution_count": null,
   "metadata": {},
   "outputs": [],
   "source": [
    "plt.plot(times, separation)\n",
    "plt.xlabel(\"Time\")\n",
    "plt.ylabel(\"Separation\")\n",
    "plt.title(\"Separation over time between two trajectories in the Lorenz system\")"
   ]
  },
  {
   "cell_type": "markdown",
   "metadata": {},
   "source": [
    "Let's zoom in on the early time segment ..."
   ]
  },
  {
   "cell_type": "code",
   "execution_count": null,
   "metadata": {},
   "outputs": [],
   "source": [
    "plt.plot(times[:1000], separation[:1000])\n",
    "plt.xlabel(\"Time\")\n",
    "plt.ylabel(\"Separation\")\n",
    "plt.title(\"Separation over time between two trajectories in the Lorenz system\")"
   ]
  },
  {
   "cell_type": "markdown",
   "metadata": {},
   "source": [
    "The separation grows rapidly, is regularised somewhat but then the differences are starting to grow steadily greater. Let's see what happens right at the start..."
   ]
  },
  {
   "cell_type": "code",
   "execution_count": null,
   "metadata": {},
   "outputs": [],
   "source": [
    "plt.plot(times[:30], separation[:30])\n",
    "plt.xlabel(\"Time\")\n",
    "plt.ylabel(\"Separation\")\n",
    "plt.title(\"Separation over time between two trajectories in the Lorenz system\")"
   ]
  },
  {
   "cell_type": "code",
   "execution_count": null,
   "metadata": {},
   "outputs": [],
   "source": [
    "plt.plot(times[:30], np.log(separation[:30]))\n",
    "plt.xlabel(\"Time\")\n",
    "plt.ylabel(\"Log separation\")\n",
    "plt.title(\"Log separation over time between two trajectories in the Lorenz system\")"
   ]
  },
  {
   "cell_type": "markdown",
   "metadata": {},
   "source": [
    "The growth in separation is very rapid and by plotting the log of the separation, we can confirm that it is approximately exponential on small timescales."
   ]
  },
  {
   "cell_type": "markdown",
   "metadata": {},
   "source": [
    "Two immediate problems emerge from this sensitivity to initial conditions.\n",
    "\n",
    "**Measurement error**\n",
    "\n",
    "When modelling real-world situations, we will never know the initial conditions perfectly.  Typically, we report them to a specified degree of precision (e.g. 2 decimal places, 5 significant figures), but for systems such as described by the Lorenz equations, this initial imperfection can be swiftly amplified.\n",
    "\n",
    "**Numerical error**\n",
    "\n",
    "In fact, this isn't just a problem for the initial measurement: computers can only compute and store numbers to finite precision.  There are potential rounding errors for every calculation performed at every step in the program.  Our methods for numerical integration are also only approximate - another source of error.  Even if we did know the initial conditions perfectly, errors will still be introduced and amplified!\n",
    "\n",
    "All is not lost, however.  By comparing two solutions with a small initial separation, we were able to get some handle on how confident we could be in our predictions.  For example, we seem to know pretty reliably what will happen until $t\\approx 17$.  We can make this more precise and start to quantify the uncertainty in our predictions using ensemble forecasting."
   ]
  }
 ],
 "metadata": {
  "kernelspec": {
   "display_name": "Python 3 (ipykernel)",
   "language": "python",
   "name": "python3"
  },
  "language_info": {
   "codemirror_mode": {
    "name": "ipython",
    "version": 3
   },
   "file_extension": ".py",
   "mimetype": "text/x-python",
   "name": "python",
   "nbconvert_exporter": "python",
   "pygments_lexer": "ipython3",
   "version": "3.9.19"
  }
 },
 "nbformat": 4,
 "nbformat_minor": 4
}
