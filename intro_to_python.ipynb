{
 "cells": [
  {
   "cell_type": "markdown",
   "metadata": {
    "id": "QN07giKIglwn"
   },
   "source": [
    "# An introduction to Python\n",
    "## Overview\n",
    "\n",
    "In this worksheet we will start to explore _Python_ and _Jupyter_ notebooks.  In particular:\n",
    "\n",
    "1. we will learn how to get _Python_ to do some calculations and store results;\n",
    "1. and we will consider how to approximate solutions to equations numerically using repeated calculation.\n",
    "\n",
    "**Using the worksheet**\n",
    "- You should download a copy of this worksheet and save it to your network drive (U:).\n",
    "- Double-click on cells to edit them.\n",
    "- To execute a cell, click the \"Run\" button on a selected cell or press Shift+Enter.\n",
    "- Every time you make a change, you will need to execute all the cells that need updating."
   ]
  },
  {
   "cell_type": "markdown",
   "metadata": {
    "id": "lFEFRtDxglwp"
   },
   "source": [
    "## Jupyter notebooks\n",
    "This document is a _Jupyter notebook_.  It is designed to mix together different media (such as text, equations, images, video) with live code that can be edited and executed.\n",
    "\n",
    "Content is contained in cells:\n",
    "- input cells can contain code, raw text, or markdown (see the _Cell_ menu);\n",
    "- output cells contain the output from code that has been executed.\n",
    "\n",
    "You can:\n",
    "- insert new cells using the _Insert_ menu;\n",
    "- cut, copy, paste, split, merge and delete cells using the _Edit_ menu;\n",
    "- change the type of a cell using the _Cell_ menu."
   ]
  },
  {
   "cell_type": "markdown",
   "metadata": {
    "id": "0qcPSzOSglwr"
   },
   "source": [
    "#### Exercise\n",
    "Practice using the above commands with markdown cells to get used to how _Jupyter_ notebooks can be edited."
   ]
  },
  {
   "cell_type": "markdown",
   "metadata": {
    "id": "OWqakB0Rglws"
   },
   "source": [
    "## Python\n",
    "_Python_ is a very flexible programming language that is designed to be powerful and intuitive. The best way to learn a programming language like _Python_ is to experiment with working code: breaking it, fixing it and learning a bit of whatever you need when you need it.\n",
    "\n",
    "### Basic arithmetic\n",
    "_Python_ can work as a calculator using +, -, *, / operators.  You type the calculation in a code cell and execute the cell (Shift+Enter or press the \"Run\" button)."
   ]
  },
  {
   "cell_type": "code",
   "execution_count": 1,
   "metadata": {
    "id": "tYydpDWYglwu",
    "outputId": "35b114da-afd5-4577-925b-1ba449d0428f"
   },
   "outputs": [
    {
     "name": "stdout",
     "output_type": "stream",
     "text": [
      "4\n",
      "6\n"
     ]
    }
   ],
   "source": [
    "(2+3)*4\n",
    "print(2**2)\n",
    "print(4^2)"
   ]
  },
  {
   "cell_type": "markdown",
   "metadata": {
    "id": "5ePPYICPglw0"
   },
   "source": [
    "#### Exercise\n",
    "- Experiment with _Python_ as a calculator.\n",
    "- What does the ** operator do?"
   ]
  },
  {
   "cell_type": "markdown",
   "metadata": {
    "id": "0W-kMVHCglw1"
   },
   "source": [
    "Results of a calculation can be stored by giving them a name using the = operator. We display them using the _print_ function."
   ]
  },
  {
   "cell_type": "code",
   "execution_count": 2,
   "metadata": {
    "id": "y9rZNCISglw1",
    "outputId": "ed49ed86-fcf0-43c3-d787-7591fc65a0d9"
   },
   "outputs": [
    {
     "name": "stdout",
     "output_type": "stream",
     "text": [
      "a = 5\n",
      "b = 1.6666666666666667\n",
      "a+b = 6.666666666666667\n"
     ]
    }
   ],
   "source": [
    "a = (2+3)*4 - 15\n",
    "b = 5/3\n",
    "print(\"a =\",a)\n",
    "print(\"b =\",b)\n",
    "print(\"a+b =\",a+b)"
   ]
  },
  {
   "cell_type": "code",
   "execution_count": 3,
   "metadata": {},
   "outputs": [
    {
     "name": "stdout",
     "output_type": "stream",
     "text": [
      "8.333333333333334\n"
     ]
    }
   ],
   "source": [
    "print(a+b+b)"
   ]
  },
  {
   "cell_type": "markdown",
   "metadata": {
    "id": "RR4_DWTYglw7"
   },
   "source": [
    "**Warning**: Note that computers are finite precision machines.  We know that the decimal expansion for 5/3 has an infinite string of 6s, but the computer can only display and store a finite amount of information.  There are many technical issues around storing numbers and doing calculations with a computer, which we don't need to worry about ... **the most important point is to never assume that the answer you have been given is exact**, but is _at best_ approximately correct.  Sometimes (and certainly more frequently than you would like), the answer provided by a computer is _wrong_ ... and possibly by a very large margin!"
   ]
  },
  {
   "cell_type": "markdown",
   "metadata": {
    "id": "_qnBI10Tglw8"
   },
   "source": [
    "## Approximating $\\sqrt{2}$\n",
    "We are going to try to find a decimal approximation to $\\sqrt{2}$.  That is, we want to find some positive real number $x$ satisfying $x^2 = 2$.\n",
    "\n",
    "There are many ways of doing this, but we are going to try a simple approach.  Rearranging the equation $x^2 = 2$ gives me\n",
    "$$ 1 = x^2 - 1 = (x+1)(x-1) .$$\n",
    "Hence,\n",
    "$$ x = 1 + \\frac{1}{x+1} .$$\n",
    "Suppose I have an old guess for $\\sqrt{2}$ called $x_{\\text{old}}$.  Then I can generate a new guess for $\\sqrt{2}$ called $x_{\\text{new}}$ using the formula\n",
    "$$ x_{\\text{new}} = 1 + 1/(x_{\\text{old}}+1). $$\n",
    "For example, if my old guess is $x_\\text{old} = 1$, then my new guess will be\n",
    "$$ x_\\text{new} = 1 + 1/(x_{\\text{old}}+1) = 1 + 1/2 = 3/2 .$$"
   ]
  },
  {
   "cell_type": "code",
   "execution_count": 4,
   "metadata": {
    "colab": {
     "base_uri": "https://localhost:8080/",
     "height": 34
    },
    "id": "xK_7N-QWglw9",
    "outputId": "d4148e9a-70fd-4792-e47d-78ac5f76245a"
   },
   "outputs": [
    {
     "name": "stdout",
     "output_type": "stream",
     "text": [
      "The new guess is 1.5.\n"
     ]
    }
   ],
   "source": [
    "x_old = 1\n",
    "x_new = 1+1/(x_old+1)\n",
    "print(\"The new guess is %s.\" % x_new)"
   ]
  },
  {
   "cell_type": "markdown",
   "metadata": {
    "id": "Ar4aahMqglxC"
   },
   "source": [
    "We can check how good each approximation is to $\\sqrt{2}$ by seeing how close to 2 we get when we square each guess."
   ]
  },
  {
   "cell_type": "code",
   "execution_count": null,
   "metadata": {
    "id": "ihVFYFDeglxD",
    "outputId": "4964b3b2-4e5c-4613-b7a6-5256d6dd15f8"
   },
   "outputs": [],
   "source": [
    "error_old = x_old**2 - 2\n",
    "error_new = x_new**2 - 2\n",
    "print(error_old)\n",
    "print(error_new)"
   ]
  },
  {
   "cell_type": "markdown",
   "metadata": {
    "id": "_urVUX8QglxI"
   },
   "source": [
    "The error appears to be getting smaller ... let's see what happens if we keep improving our guess."
   ]
  },
  {
   "cell_type": "code",
   "execution_count": null,
   "metadata": {
    "id": "kBv9MeMgglxJ",
    "outputId": "577bc290-6f73-4859-ca48-ca104c1af25f"
   },
   "outputs": [],
   "source": [
    "x = 1\n",
    "x = 1+1/(x+1)\n",
    "x = 1+1/(x+1)\n",
    "x = 1+1/(x+1)\n",
    "x = 1+1/(x+1)\n",
    "x = 1+1/(x+1)\n",
    "print(\"The error is \"+str(x**2-2)+\".\")"
   ]
  },
  {
   "cell_type": "markdown",
   "metadata": {
    "id": "kfw9ZKlrglxO"
   },
   "source": [
    "#### Repeating calculations\n",
    "If we wanted to repeat the calculation more times it is going to be tedious to keep typing out the same instruction repeatedly.  Fortunately, we can use a _for_ loop to repeat it as many times as we like."
   ]
  },
  {
   "cell_type": "code",
   "execution_count": null,
   "metadata": {
    "colab": {
     "base_uri": "https://localhost:8080/",
     "height": 51
    },
    "id": "EcOv_5gRglxQ",
    "outputId": "dab157a9-d8db-4d17-eaae-86a8fb7c2d62"
   },
   "outputs": [],
   "source": [
    "x = 1\n",
    "\n",
    "for i in range(100):\n",
    "    x = 1+1/(x+1)\n",
    "\n",
    "print(\"The current guess is x = \"+str(x)+\".\")\n",
    "print(\"The error is \"+str(x**2-2)+\".\")"
   ]
  },
  {
   "cell_type": "markdown",
   "metadata": {
    "id": "UUILZnE0glxU"
   },
   "source": [
    "Notice that _Python_ uses a colon (:) and indentation to indicate the scope of the _for_ loop (where it begins and ends).\n",
    "\n",
    "A _for_ loop is useful if we know how many times we want the loop to repeat.  Suppose instead we want to repeat the calculation until the error is no more than 1e-10.  Then a _while_ loop would be a better choice."
   ]
  },
  {
   "cell_type": "code",
   "execution_count": null,
   "metadata": {
    "id": "EqbuQ486glxV",
    "outputId": "f47fd4b5-d4ae-4059-94f1-a4c0b12b39b3"
   },
   "outputs": [],
   "source": [
    "x = 1\n",
    "error = x**2 - 2\n",
    "\n",
    "while (abs(error) > 1e-10):\n",
    "    x = 1+1/(x+1)\n",
    "    error = x**2 - 2\n",
    "\n",
    "print(\"The current guess is x = \"+str(x)+\".\")\n",
    "print(\"The error is \"+str(error)+\".\")"
   ]
  },
  {
   "cell_type": "markdown",
   "metadata": {
    "id": "tMOJYnsxglxY"
   },
   "source": [
    "#### Lists\n",
    "Suppose now we want to keep all the values of $x$ we have calculated.  We can use a list to achieve this."
   ]
  },
  {
   "cell_type": "code",
   "execution_count": null,
   "metadata": {
    "id": "iNmCiW-pglxY",
    "outputId": "b0af0fd1-39a6-47ec-a789-229dfb155546"
   },
   "outputs": [],
   "source": [
    "values = [1, 0, 5/3, 1.99]\n",
    "print(values)"
   ]
  },
  {
   "cell_type": "markdown",
   "metadata": {
    "id": "fpNZOeV5glxa"
   },
   "source": [
    "The command we need is _append()_ to keep growing the list with new values."
   ]
  },
  {
   "cell_type": "code",
   "execution_count": null,
   "metadata": {
    "id": "hlcg7P1dglxa",
    "outputId": "d8829175-a5b5-499f-a9a5-82260ceeb58d"
   },
   "outputs": [],
   "source": [
    "numbers = [12, 9, 3.1]\n",
    "numbers.append(7.01)\n",
    "print(numbers)"
   ]
  },
  {
   "cell_type": "markdown",
   "metadata": {
    "id": "5AmA_eWyglxd"
   },
   "source": [
    "Let's try to approximate $\\sqrt{2}$ so that its squared value is within 1e-10 of 2 ... and let's store all the values in a list. "
   ]
  },
  {
   "cell_type": "code",
   "execution_count": 6,
   "metadata": {
    "colab": {
     "base_uri": "https://localhost:8080/",
     "height": 51
    },
    "id": "dIgmUqSAglxe",
    "outputId": "471710ed-65b9-4d79-dd19-3e6e1d1d853d"
   },
   "outputs": [
    {
     "name": "stdout",
     "output_type": "stream",
     "text": [
      "The current guess is x = 1.4142135623637995.\n",
      "The error is -2.6291857579963107e-11.\n"
     ]
    }
   ],
   "source": [
    "x = 1\n",
    "error = x**2 -2\n",
    "approximations = [x]\n",
    "\n",
    "while (abs(error) > 1e-10):\n",
    "    x = 1+1/(x+1)\n",
    "    error = x**2 - 2\n",
    "    approximations.append(x)\n",
    "\n",
    "print(\"The current guess is x = \"+str(x)+\".\")\n",
    "print(\"The error is \"+str(error)+\".\")"
   ]
  },
  {
   "cell_type": "markdown",
   "metadata": {
    "id": "z8zLmDNiglxh"
   },
   "source": [
    "We can print out the list of approximations ..."
   ]
  },
  {
   "cell_type": "code",
   "execution_count": 7,
   "metadata": {
    "id": "qJ3vuoDhglxi",
    "outputId": "377843a6-1b63-4c7f-e1c7-263d82a0a712"
   },
   "outputs": [
    {
     "name": "stdout",
     "output_type": "stream",
     "text": [
      "[1, 1.5, 1.4, 1.4166666666666667, 1.4137931034482758, 1.4142857142857144, 1.4142011834319526, 1.4142156862745099, 1.4142131979695431, 1.4142136248948696, 1.4142135516460548, 1.4142135642135643, 1.4142135620573204, 1.4142135624272734, 1.4142135623637995]\n"
     ]
    }
   ],
   "source": [
    "print(approximations)"
   ]
  },
  {
   "cell_type": "markdown",
   "metadata": {
    "id": "Q8uG5rdoglxk"
   },
   "source": [
    "_Python_ starts counting at 0, so if we want the 10th approximation, then we need to get the element _approximations[9]_ from the list."
   ]
  },
  {
   "cell_type": "code",
   "execution_count": null,
   "metadata": {
    "id": "o5XrdDFcglxl",
    "outputId": "a8b8b23d-139d-4d3f-9d15-e4c6e35e13ed"
   },
   "outputs": [],
   "source": [
    "print(\"The 10th approximation was \"+str(approximations[9])+\".\")"
   ]
  },
  {
   "cell_type": "markdown",
   "metadata": {
    "id": "NMybvdrNglxo"
   },
   "source": [
    "If we want to calculate the respective errors, then we can perform the operations needed on the entire list in one go."
   ]
  },
  {
   "cell_type": "code",
   "execution_count": null,
   "metadata": {
    "colab": {
     "base_uri": "https://localhost:8080/",
     "height": 54
    },
    "id": "N8V1Zr5Kglxp",
    "outputId": "f37fd597-c786-4414-f235-7fc4fdd3da10"
   },
   "outputs": [],
   "source": [
    "errors = [x**2 - 2 for x in approximations]\n",
    "print(errors)"
   ]
  },
  {
   "cell_type": "markdown",
   "metadata": {
    "id": "iR1oB52sZv32"
   },
   "source": [
    "We can plot these errors using the plotting function in matplotlib."
   ]
  },
  {
   "cell_type": "code",
   "execution_count": null,
   "metadata": {
    "colab": {
     "base_uri": "https://localhost:8080/",
     "height": 279
    },
    "id": "Ydw3wd3wZwsj",
    "outputId": "a9140a6c-0c94-4380-eec0-37fbaee8e4e8"
   },
   "outputs": [],
   "source": [
    "%matplotlib inline\n",
    "import matplotlib.pyplot as plt\n",
    "plt.plot(errors)\n",
    "plt.xlabel(\"iterations\")\n",
    "plt.ylabel(\"error\")\n",
    "plt.show()"
   ]
  }
 ],
 "metadata": {
  "colab": {
   "collapsed_sections": [],
   "name": "Lab 1.ipynb",
   "provenance": []
  },
  "kernelspec": {
   "display_name": "Python 3 (ipykernel)",
   "language": "python",
   "name": "python3"
  },
  "language_info": {
   "codemirror_mode": {
    "name": "ipython",
    "version": 3
   },
   "file_extension": ".py",
   "mimetype": "text/x-python",
   "name": "python",
   "nbconvert_exporter": "python",
   "pygments_lexer": "ipython3",
   "version": "3.9.19"
  }
 },
 "nbformat": 4,
 "nbformat_minor": 1
}
